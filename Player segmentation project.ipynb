{
  "cells": [
    {
      "cell_type": "markdown",
      "id": "GYGqHfmB_oUY",
      "metadata": {
        "id": "GYGqHfmB_oUY"
      },
      "source": [
        "# Explore football skills and cluster football players based on their attributes\n"
      ]
    },
    {
      "cell_type": "code",
      "execution_count": null,
      "id": "e9989f31",
      "metadata": {
        "id": "e9989f31"
      },
      "outputs": [],
      "source": []
    },
    {
      "cell_type": "markdown",
      "source": [
        "The attributes used in the project are:\n",
        "●\tName: Name of the player.\n",
        "●\tAge: Age of the player.\n",
        "●\tHeight: Height of the player in inches (transformed to centimeters in preprocessing).\n",
        "●\tOverall: General performance quality and value of the player representing the key positional skills and international reputation rated between 1-99. Overall attribute is used only in preprocessing and discussion stages because using it in modelling could lead to domination by this feature. The aim of the project is not basically sort and categorize the players using their overall talent and international reputation, but to cluster them based on using their whole skillset.\n",
        "●\tPotential: Maximum Overall rating expected to be reached by a player in the top of his career rated between 1-99.\n",
        "●\tPreferredFoot: Right or Left. Label encoder is applied as 0 for left and 1 for right.\n",
        "●\tWeakFoot: Represents how well a player uses his weak foot (e.g. left for righties) rated between 1 to 5.\n",
        "●\tWorkRate: Degree of the effort the player puts in terms of attack and defense rated as low, medium and high. This feature is divided into two new features as AttackWorkRate and DefenseWorkRate. Besides, label encoder is applied as 0 for low, 0.5 for medium and 1 for high.\n",
        "●\tPosition: Position of the players on the pitch which determines their roles and responsibilities in the team. Forward positions in the football and FIFA 19 can be grouped as striker (ST: center striker, RS: right striker, LS: left striker), forward (CF: center forward, RF: right forward, LF: left forward) and winger (RW: right winger, LW: left winger). The word, forward, is used both as a general term and a special position. Strikers are positioned in front of forwards and wingers and very closed to the opposing goal. Their main responsibilities are attacking and scoring goals, that’s why their ball control, shooting and finishing skills are expected to be well. Center forwards are positioned right behind the strikers. They are expected to receive balls from the others and score assists to the others or goals. In addition to the skills expected from strikers, they have to be good at passing. Right forwards and left forwards are positioned at the right and left of the center forwards with the same expectations. Wingers are positioned near the touchlines to create chances for strikers and forwards from the right and left side of the field by breakthrough and crosses and to score goals. They are expected to be good at dribbling, acceleration, passing and crossing. Positions are used only in preprocessing and discussion stages.\n",
        "●\tST: Positional skill. Player’s general ability when playing in ST position rated between 1-99.\n",
        "●\tRS: Positional skill. Player’s general ability when playing in in RS position rated between 1-99.\n",
        "●\tLS: Positional skill. Player’s general ability when playing in in LS position rated between 1-99.\n",
        "●\tCF: Positional skill. Player’s general ability when playing in in CF position rated between 1-99.\n",
        "●\tRF: Positional skill. Player’s general ability when playing in in RF position rated between 1-99.\n",
        "●\tLF: Positional skill. Player’s general ability when playing in in LF position rated between 1-99.\n",
        "●\tRW: Positional skill. Player’s general ability when playing in in RW position rated between 1-99.\n",
        "●\tLW: Positional skill. Player’s general ability when playing in in LW position rated between 1-99.\n",
        "●\tCrossing: Crossing skill of the player rated between 1-99. Cross is a long-range pass from wings to center.\n",
        "●\tFinishing: Finishing skill of the player rated between 1-99. Finishing in football refers to finish an attack by scoring a goal.\n",
        "●\tHeadingAccuracy: Player’s accuracy to pass or shoot by using his head rated between 1-99.\n",
        "●\tShortPassing: Player’s accuracy for short passes rated between 1-99.\n",
        "●\tLongPassing: Player’s accuracy for long passes rated between 1-99.\n",
        "●\tDribbling: Dribbling skill of the player rated between 1-99. Dribbling is carrying the ball without losing while moving in one particular direction.\n",
        "●\tSprintSpeed: Speed rate of the player rated between 1-99.\n",
        "●\tAcceleration: Shows how fast a player can reach his maximum sprint speed rated between 1-99.\n",
        "●\tFKAccuracy: Player’s accuracy to score free kick goals rated between 1-99.\n",
        "●\tBallControl: Player’s ability to control the ball rated between 1-99.\n",
        "●\tBalance: Player’s ability to remain steady while running, carrying and controlling the ball rated between 1-99.\n",
        "●\tShotPower: Player’s strength level of shooting the ball rated between 1-99.\n",
        "●\tJumping: Player’s jumping skill rated between 1-99.\n",
        "●\tPenalties: Player’s accuracy to score goals from penalty rated between 1-99.\n",
        "●\tStrength: Physical strength of the player rated between 1-99.\n",
        "●\tAgility: Gracefulness and quickness of the player while controlling the ball rated between 1-99.\n",
        "●\tReactions: Acting speed of the player to what happens in his environment rated between 1-99.\n",
        "●\tAggression: Aggression level of the player while pushing, pulling and tackling rated between 1-99.\n",
        "●\tPositioning: Player’s ability to place himself in the right position to receive the ball or score goals rated between 1-99.\n",
        "●\tVision: Player’s mental awareness about the other players in the team for passing rated between 1-99.\n",
        "●\tVolleys: Player’s ability to perform volleys rated between 1-99.\n",
        "●\tLongShots: Player’s accuracy of shoots from long distances rated between 1-99.\n",
        "●\tStamina: Player’s ability to sustain his stamina level during the match rated between 1-99. Players with lower stamina get tired fast.\n",
        "●\tComposure: Player’s ability to control his calmness and frustration during the match rated between 1-99.\n",
        "●\tCurve: Player’s ability to curve the ball while passing or shooting rated between 1-99.\n",
        "●\tInterceptions: Player’s ability to intercept the ball while opposite team’s players are passing rated between 1-99. It is a defensive skill.\n",
        "●\tStandingTackle: Player’s ability to perform tackle (take the ball from the opposite player) while standing rated between 1-99. It is a defensive skill.\n",
        "●\tSlidingTackle: Player’s ability to perform tackle by sliding rated between 1-99. It is a defensive skill.\n",
        "●\tMarking: Player’s ability to apply strategies to prevent opposing team from taking the ball rated between 1-99. It is a defensive skill.  \n",
        "\n"
      ],
      "metadata": {
        "id": "UkI2vnN9vET_"
      },
      "id": "UkI2vnN9vET_"
    },
    {
      "cell_type": "markdown",
      "id": "d531V7RN_i6h",
      "metadata": {
        "id": "d531V7RN_i6h"
      },
      "source": []
    },
    {
      "cell_type": "code",
      "execution_count": 1,
      "id": "a31dc930",
      "metadata": {
        "id": "a31dc930"
      },
      "outputs": [],
      "source": [
        "#import necessary libraries\n",
        "import numpy as np\n",
        "import pandas as pd\n",
        "import seaborn as sns\n",
        "from sklearn.preprocessing import StandardScaler,LabelEncoder,OneHotEncoder,OrdinalEncoder,MinMaxScaler,RobustScaler\n",
        "from sklearn.cluster import KMeans\n",
        "import matplotlib.pyplot as plt\n",
        "from sklearn.cluster import AgglomerativeClustering\n",
        "from sklearn.metrics import silhouette_score"
      ]
    },
    {
      "cell_type": "code",
      "execution_count": 3,
      "id": "296bc647",
      "metadata": {
        "colab": {
          "base_uri": "https://localhost:8080/"
        },
        "id": "296bc647",
        "outputId": "8c82fcb8-f046-49f9-f12b-3ded486b38d5"
      },
      "outputs": [
        {
          "output_type": "stream",
          "name": "stderr",
          "text": [
            "<ipython-input-3-765025a48bf3>:2: DtypeWarning: Columns (13) have mixed types. Specify dtype option on import or set low_memory=False.\n",
            "  data=pd.read_csv(r'/content/players_20.csv', encoding='latin-1') # or encoding='ISO-8859-1'\n"
          ]
        }
      ],
      "source": [
        "# Load the dataset\n",
        "data=pd.read_csv(r'/content/players_20.csv', encoding='latin-1') # or encoding='ISO-8859-1'"
      ]
    },
    {
      "cell_type": "markdown",
      "id": "c2f572ab",
      "metadata": {
        "id": "c2f572ab"
      },
      "source": [
        "### Basic checks &EDA"
      ]
    },
    {
      "cell_type": "code",
      "execution_count": null,
      "id": "zKKxY2hSWrzK",
      "metadata": {
        "id": "zKKxY2hSWrzK"
      },
      "outputs": [],
      "source": [
        "!pip install sweetviz\n"
      ]
    },
    {
      "cell_type": "code",
      "execution_count": null,
      "id": "ca82e127",
      "metadata": {
        "id": "ca82e127"
      },
      "outputs": [],
      "source": [
        "#View sample data\n",
        "data.head(10)"
      ]
    },
    {
      "cell_type": "code",
      "execution_count": null,
      "id": "3d8709b8",
      "metadata": {
        "id": "3d8709b8"
      },
      "outputs": [],
      "source": [
        "#checking the dimension\n",
        "data.shape"
      ]
    },
    {
      "cell_type": "code",
      "execution_count": null,
      "id": "b4179b4a",
      "metadata": {
        "id": "b4179b4a"
      },
      "outputs": [],
      "source": []
    },
    {
      "cell_type": "code",
      "execution_count": null,
      "id": "oZ8KCOtNqw6a",
      "metadata": {
        "id": "oZ8KCOtNqw6a"
      },
      "outputs": [],
      "source": [
        "#checking for null values\n",
        "\n",
        "print(data.isnull().sum().sum)"
      ]
    },
    {
      "cell_type": "code",
      "execution_count": null,
      "id": "yyAuT8sgAGKY",
      "metadata": {
        "id": "yyAuT8sgAGKY"
      },
      "outputs": [],
      "source": [
        "#checking for duplicate values\n",
        "data.duplicated().sum()"
      ]
    },
    {
      "cell_type": "raw",
      "id": "fd376a6e",
      "metadata": {
        "id": "fd376a6e"
      },
      "source": [
        "k1=[]\n",
        "for i in data.columns:\n",
        "    if data[i].dtype=='object':\n",
        "        data1.append(i)\n",
        "data_obj=data[k1]"
      ]
    },
    {
      "cell_type": "markdown",
      "id": "TrpsjUOboZqF",
      "metadata": {
        "id": "TrpsjUOboZqF"
      },
      "source": [
        "#Exploratory Data Analysis"
      ]
    },
    {
      "cell_type": "code",
      "execution_count": null,
      "id": "HbENnDOSogTH",
      "metadata": {
        "id": "HbENnDOSogTH"
      },
      "outputs": [],
      "source": []
    },
    {
      "cell_type": "code",
      "execution_count": null,
      "id": "4779c843",
      "metadata": {
        "id": "4779c843"
      },
      "outputs": [],
      "source": [
        "#variable with floating values\n",
        "data_flt = list(data.select_dtypes('float').columns)\n",
        "#variable with integer values\n",
        "data_int = list(data.select_dtypes('integer').columns)\n",
        "#variable with string values\n",
        "data_obj = list(data.select_dtypes('object').columns)"
      ]
    },
    {
      "cell_type": "code",
      "execution_count": null,
      "id": "72542030",
      "metadata": {
        "id": "72542030"
      },
      "outputs": [],
      "source": [
        "# Basic information about the dataset\n",
        "data.info()\n",
        "data[data_flt].info()"
      ]
    },
    {
      "cell_type": "code",
      "execution_count": null,
      "id": "9fe1bbbb",
      "metadata": {
        "id": "9fe1bbbb"
      },
      "outputs": [],
      "source": [
        "data[data_int].info()"
      ]
    },
    {
      "cell_type": "code",
      "execution_count": null,
      "id": "a3620cd7",
      "metadata": {
        "id": "a3620cd7"
      },
      "outputs": [],
      "source": [
        "data[data_obj].info()"
      ]
    },
    {
      "cell_type": "code",
      "execution_count": null,
      "id": "3e5ad800",
      "metadata": {
        "id": "3e5ad800"
      },
      "outputs": [],
      "source": [
        "#Key description\\statistics of features of datatype float\n",
        "data[data_flt].describe().T"
      ]
    },
    {
      "cell_type": "code",
      "execution_count": null,
      "id": "b5e76d2a",
      "metadata": {
        "id": "b5e76d2a"
      },
      "outputs": [],
      "source": [
        "data[data_flt].corr()"
      ]
    },
    {
      "cell_type": "code",
      "execution_count": null,
      "id": "85a7ca04",
      "metadata": {
        "id": "85a7ca04"
      },
      "outputs": [],
      "source": [
        "#Key description\\statistics of features of datatype integer\n",
        "data[data_int].describe().T"
      ]
    },
    {
      "cell_type": "code",
      "execution_count": null,
      "id": "67b301be",
      "metadata": {
        "id": "67b301be"
      },
      "outputs": [],
      "source": [
        "##Key description\\statistics of features of datatype object\n",
        "data[data_obj].describe().T"
      ]
    },
    {
      "cell_type": "code",
      "execution_count": null,
      "id": "e4823e6c",
      "metadata": {
        "id": "e4823e6c"
      },
      "outputs": [],
      "source": [
        "import sweetviz as sv\n",
        "my_report=sv.analyze(data[data_flt])\n",
        "\n",
        "my_report.show_html()"
      ]
    },
    {
      "cell_type": "code",
      "execution_count": null,
      "id": "facf4907",
      "metadata": {
        "id": "facf4907"
      },
      "outputs": [],
      "source": [
        "import sweetviz as sv\n",
        "my_report=sv.analyze(data[data_int])\n",
        "\n",
        "my_report.show_html()"
      ]
    },
    {
      "cell_type": "code",
      "execution_count": null,
      "id": "9f8a3d68",
      "metadata": {
        "id": "9f8a3d68"
      },
      "outputs": [],
      "source": [
        "import sweetviz as sv\n",
        "my_report=sv.analyze(data[data_obj])\n",
        "\n",
        "my_report.show_html()"
      ]
    },
    {
      "cell_type": "markdown",
      "id": "f9e6ca28",
      "metadata": {
        "id": "f9e6ca28"
      },
      "source": [
        "### preprocessing"
      ]
    },
    {
      "cell_type": "code",
      "execution_count": null,
      "id": "d239c590",
      "metadata": {
        "id": "d239c590"
      },
      "outputs": [],
      "source": [
        "#remove of specific columns which have more than 50% null values and which are not relevant for clustering ,\n",
        "k3=['sofifa_id','player_url','short_name','long_name','dob','club','value_eur','wage_eur','work_rate','real_face',\n",
        "   'player_tags','team_jersey_number','joined','contract_valid_until','nation_position','nation_jersey_number','pace',\n",
        "   'player_traits','nationality','gk_diving','gk_handling','loaned_from','gk_kicking','gk_reflexes','gk_speed','gk_positioning','nation_position','release_clause_eur','body_type','player_positions']\n",
        "data1=data.drop(k3,axis=1)\n"
      ]
    },
    {
      "cell_type": "code",
      "execution_count": null,
      "id": "6e51d81a",
      "metadata": {
        "id": "6e51d81a"
      },
      "outputs": [],
      "source": [
        "#conver object column to numeric column\n",
        "col_val=['ls', 'st', 'rs', 'lw', 'lf', 'cf', 'rf', 'rw', 'lam', 'cam', 'ram', 'lm', 'lcm',\n",
        "                'cm', 'rcm', 'rm', 'lwb', 'ldm', 'cdm', 'rdm', 'rwb', 'lb', 'lcb', 'cb', 'rcb', 'rb']"
      ]
    },
    {
      "cell_type": "code",
      "execution_count": null,
      "id": "5a62f40f",
      "metadata": {
        "id": "5a62f40f"
      },
      "outputs": [],
      "source": [
        "# Columns given below are rating of the positional skills of each player.  For player_positions GK, we can put the values\n",
        "# as zero as these are meant for non-goal keeping positions\n",
        "\n",
        "import re\n",
        "def col_typ_chg(col_val):\n",
        "    if col_val is np.nan:\n",
        "        return 0\n",
        "    col_val_spl = re.split('[-+]', col_val)\n",
        "    col_val_int = list(map(int, col_val_spl))\n",
        "    if \"+\" in col_val:\n",
        "        return sum(col_val_int)\n",
        "    return np.abs(np.diff(col_val_int))[0]"
      ]
    },
    {
      "cell_type": "code",
      "execution_count": null,
      "id": "26e748e8",
      "metadata": {
        "id": "26e748e8"
      },
      "outputs": [],
      "source": [
        "for col2 in col_val:\n",
        "    data1[col2] = data1[col2].apply(col_typ_chg)"
      ]
    },
    {
      "cell_type": "code",
      "execution_count": null,
      "id": "e05f41f6",
      "metadata": {
        "id": "e05f41f6"
      },
      "outputs": [],
      "source": [
        "data_flt1 = list(data1.select_dtypes('float').columns)\n",
        "data_int1 = list(data1.select_dtypes('integer').columns)"
      ]
    },
    {
      "cell_type": "code",
      "execution_count": null,
      "id": "db9507f3",
      "metadata": {
        "id": "db9507f3"
      },
      "outputs": [],
      "source": [
        "data[data_flt1].corr()"
      ]
    },
    {
      "cell_type": "code",
      "execution_count": null,
      "id": "4df26ab6",
      "metadata": {
        "id": "4df26ab6"
      },
      "outputs": [],
      "source": [
        "data1[data_int1].corr()"
      ]
    },
    {
      "cell_type": "code",
      "execution_count": null,
      "id": "cce18ce6",
      "metadata": {
        "id": "cce18ce6"
      },
      "outputs": [],
      "source": [
        "#remove the columns which have high correlatin\n",
        "data2=data1.drop(['ls', 'rs', 'lw', 'lf', 'rf', 'rw', 'lam', 'ram', 'lm', 'lcm',\n",
        "                 'rcm', 'rm', 'lwb', 'ldm', 'rdm', 'rwb', 'lb', 'lcb', 'cb', 'rcb',\n",
        "                  'attacking_crossing','team_position','attacking_finishing'],axis=1)"
      ]
    },
    {
      "cell_type": "code",
      "execution_count": null,
      "id": "44402ae9",
      "metadata": {
        "id": "44402ae9"
      },
      "outputs": [],
      "source": [
        "data2.shape"
      ]
    },
    {
      "cell_type": "code",
      "execution_count": null,
      "id": "2ef34e59",
      "metadata": {
        "id": "2ef34e59",
        "scrolled": true
      },
      "outputs": [],
      "source": [
        "data2.isnull().sum()"
      ]
    },
    {
      "cell_type": "code",
      "execution_count": null,
      "id": "2ff29dc6",
      "metadata": {
        "id": "2ff29dc6"
      },
      "outputs": [],
      "source": [
        "#missing values handeling\n",
        "\n",
        "data2.fillna(value={'shooting':data2.shooting.median(),'passing':data2.passing.median(),'dribbling':data2.dribbling.median(),'physic':data2.physic.median(),'defending':data2.defending.median()},inplace=True)\n",
        "#data2.fillna(value={'team_position':data2.team_position.mode()},inplace=True)"
      ]
    },
    {
      "cell_type": "markdown",
      "id": "8150a71a",
      "metadata": {
        "id": "8150a71a"
      },
      "source": [
        "### Feature Engineering"
      ]
    },
    {
      "cell_type": "code",
      "execution_count": null,
      "id": "ppim7L9Kg9r2",
      "metadata": {
        "id": "ppim7L9Kg9r2"
      },
      "outputs": [],
      "source": [
        "enc=OneHotEncoder()\n"
      ]
    },
    {
      "cell_type": "code",
      "execution_count": null,
      "id": "XrwX3Ugy-JMj",
      "metadata": {
        "id": "XrwX3Ugy-JMj"
      },
      "outputs": [],
      "source": [
        "data_enc=pd.get_dummies(data2,columns=['preferred_foot'],dtype='int')"
      ]
    },
    {
      "cell_type": "code",
      "execution_count": null,
      "id": "5WbMGaaJEp8i",
      "metadata": {
        "id": "5WbMGaaJEp8i"
      },
      "outputs": [],
      "source": [
        "data_enc.head()"
      ]
    },
    {
      "cell_type": "code",
      "execution_count": null,
      "id": "ojAUgLFRg9as",
      "metadata": {
        "id": "ojAUgLFRg9as"
      },
      "outputs": [],
      "source": [
        "from sklearn.preprocessing import MinMaxScaler\n",
        "scaler = MinMaxScaler()\n",
        "fifa_data_upd_scl = scaler.fit_transform(data_enc)\n",
        "fifa_data_upd_scl1=scaler.fit_transform(data_enc)"
      ]
    },
    {
      "cell_type": "markdown",
      "id": "f16dec12",
      "metadata": {
        "id": "f16dec12"
      },
      "source": [
        "### Model Building"
      ]
    },
    {
      "cell_type": "code",
      "execution_count": null,
      "id": "HYtwDqslh43e",
      "metadata": {
        "id": "HYtwDqslh43e"
      },
      "outputs": [],
      "source": [
        "wcss = []\n",
        "for cluster in range(2,20):\n",
        "    kme_clu_dup_fea = KMeans(n_clusters=cluster, random_state=9)\n",
        "    kme_clu_dup_fea.fit(fifa_data_upd_scl)\n",
        "    # Access inertia_ from the KMeans object\n",
        "    wcss.append(kme_clu_dup_fea.inertia_)\n",
        "\n",
        "plt.plot(range(2,20), wcss)\n",
        "plt.title(\"Elbow method\")\n",
        "plt.xlabel(\"Number of clusters\")\n",
        "plt.ylabel(\"WCSS(for duplicated features)\")\n",
        "plt.show()"
      ]
    },
    {
      "cell_type": "code",
      "execution_count": null,
      "id": "fjdqQTRVh5JK",
      "metadata": {
        "id": "fjdqQTRVh5JK"
      },
      "outputs": [],
      "source": [
        "# For dataframe \"fifa_data_upd_scl_upd\"\n",
        "\n",
        "# For 2 clusters\n",
        "kmea_clu_dup_fea_clu2 = KMeans(n_clusters=2, random_state=9)\n",
        "kmea_clu_dup_fea_clu2.fit(fifa_data_upd_scl)\n",
        "print(\"WCSS for dup fea with 2 clusters:\", kmea_clu_dup_fea_clu2.inertia_)\n",
        "\n",
        "\n",
        "\n",
        "# For 3 clusters\n",
        "kmea_clu_dup_fea_clu3 = KMeans(n_clusters=3, random_state=9)\n",
        "kmea_clu_dup_fea_clu3.fit(fifa_data_upd_scl)\n",
        "print(\"WCSS for dup fea with 3 clusters:\", kmea_clu_dup_fea_clu3.inertia_)\n",
        "# For 4 clusters\n",
        "kmea_clu_dup_fea_clu4 = KMeans(n_clusters=4, random_state=9)\n",
        "kmea_clu_dup_fea_clu4.fit(fifa_data_upd_scl)\n",
        "print(\"WCSS for dup fea with 4 clusters:\", kmea_clu_dup_fea_clu4.inertia_)\n",
        "\n",
        "# For 5 clusters\n",
        "kmea_clu_dup_fea_clu5 = KMeans(n_clusters=5, random_state=9)\n",
        "kmea_clu_dup_fea_clu5.fit(fifa_data_upd_scl)\n",
        "print(\"WCSS for dup fea with 5 clusters:\", kmea_clu_dup_fea_clu5.inertia_)\n",
        "\n",
        "# For 6 clusters\n",
        "kmea_clu_dup_fea_clu6 = KMeans(n_clusters=6, random_state=9)\n",
        "kmea_clu_dup_fea_clu6.fit(fifa_data_upd_scl)\n",
        "print(\"WCSS for dup fea with 6 clusters:\", kmea_clu_dup_fea_clu2.inertia_)\n"
      ]
    },
    {
      "cell_type": "code",
      "execution_count": null,
      "id": "lPv1Pk8L4O2I",
      "metadata": {
        "id": "lPv1Pk8L4O2I"
      },
      "outputs": [],
      "source": [
        "#Calculate the silhouette score for 2 cluster\n",
        "labels2 = kmea_clu_dup_fea_clu2.fit_predict(fifa_data_upd_scl)\n",
        "silhouette_avg2 = silhouette_score(fifa_data_upd_scl, labels2)\n",
        "print(silhouette_avg2)\n",
        "#Calculate the silhouette score for 3 cluster\n",
        "labels3 = kmea_clu_dup_fea_clu3.fit_predict(fifa_data_upd_scl)\n",
        "silhouette_avg3 = silhouette_score(fifa_data_upd_scl, labels3)\n",
        "print(silhouette_avg3)\n",
        "#Calculate the silhouette score for 4 cluster\n",
        "labels4 = kmea_clu_dup_fea_clu4.fit_predict(fifa_data_upd_scl)\n",
        "silhouette_avg4 = silhouette_score(fifa_data_upd_scl, labels4)\n",
        "print(silhouette_avg4)\n",
        "#Calculate the silhouette score for 6 cluster\n",
        "labels6 = kmea_clu_dup_fea_clu4.fit_predict(fifa_data_upd_scl)\n",
        "silhouette_avg6 = silhouette_score(fifa_data_upd_scl, labels6)\n",
        "print(silhouette_avg6)\n",
        "#Calculate the silhouette score for 5 cluster\n",
        "labels5 = kmea_clu_dup_fea_clu5.fit_predict(fifa_data_upd_scl)\n",
        "silhouette_avg5 = silhouette_score(fifa_data_upd_scl, labels5)\n",
        "silhouette_avg5"
      ]
    },
    {
      "cell_type": "markdown",
      "id": "06e63a0b",
      "metadata": {
        "id": "06e63a0b"
      },
      "source": [
        "I have got high silhouette score after taking 2 cluster  ."
      ]
    },
    {
      "cell_type": "code",
      "execution_count": null,
      "id": "TWujq3LNsqtX",
      "metadata": {
        "id": "TWujq3LNsqtX"
      },
      "outputs": [],
      "source": [
        "label=kmea_clu_dup_fea_clu2 .labels_\n",
        "label"
      ]
    },
    {
      "cell_type": "code",
      "execution_count": null,
      "id": "RpRQSv3HtGVn",
      "metadata": {
        "id": "RpRQSv3HtGVn"
      },
      "outputs": [],
      "source": [
        "from collections import Counter\n",
        "Counter(label)"
      ]
    },
    {
      "cell_type": "code",
      "execution_count": null,
      "id": "UPvaAlb4Jo8W",
      "metadata": {
        "id": "UPvaAlb4Jo8W"
      },
      "outputs": [],
      "source": [
        "# Assuming fifa_data_upd_scl is your NumPy array\n",
        "fifa_data_upd_scl = pd.DataFrame(fifa_data_upd_scl)  # Convert to DataFrame\n",
        "\n",
        "# Now you can add the 'Labels' column\n",
        "fifa_data_upd_scl['Labels'] = label\n",
        "fifa_data_upd_scl"
      ]
    },
    {
      "cell_type": "markdown",
      "id": "cSNbSftJ9555",
      "metadata": {
        "id": "cSNbSftJ9555"
      },
      "source": []
    },
    {
      "cell_type": "code",
      "execution_count": null,
      "id": "d8zL9wDqoFl5",
      "metadata": {
        "id": "d8zL9wDqoFl5"
      },
      "outputs": [],
      "source": [
        "# Hierchical clustering\n",
        "import scipy.cluster.hierarchy as shc\n",
        "import matplotlib.pyplot as plt\n",
        "\n",
        "plt.figure(figsize=(10, 7))\n",
        "plt.title('Dendrogram')\n",
        "dend = shc.dendrogram(shc.linkage(fifa_data_upd_scl1, method='ward'))\n",
        "plt.show()"
      ]
    },
    {
      "cell_type": "code",
      "execution_count": null,
      "id": "bEXeZoKBC4wT",
      "metadata": {
        "id": "bEXeZoKBC4wT"
      },
      "outputs": [],
      "source": [
        "\n",
        "hie = AgglomerativeClustering(n_clusters=2)\n",
        "hie_labels = hie.fit_predict(fifa_data_upd_scl1)"
      ]
    },
    {
      "cell_type": "code",
      "execution_count": null,
      "id": "ALzrjNhIXTZK",
      "metadata": {
        "id": "ALzrjNhIXTZK"
      },
      "outputs": [],
      "source": [
        "sil_score = silhouette_score(fifa_data_upd_scl1, hie_labels)\n",
        "sil_score\n",
        "\n"
      ]
    },
    {
      "cell_type": "code",
      "execution_count": null,
      "id": "ioi8DfXFTacA",
      "metadata": {
        "id": "ioi8DfXFTacA"
      },
      "outputs": [],
      "source": [
        "hie_labels"
      ]
    },
    {
      "cell_type": "code",
      "execution_count": null,
      "id": "tiXAFyeATaez",
      "metadata": {
        "id": "tiXAFyeATaez"
      },
      "outputs": [],
      "source": [
        "from collections import Counter\n",
        "Counter(hie_labels)"
      ]
    },
    {
      "cell_type": "markdown",
      "id": "0fb80035",
      "metadata": {
        "id": "0fb80035"
      },
      "source": [
        "### Which countries are producing the most footballers"
      ]
    },
    {
      "cell_type": "code",
      "execution_count": null,
      "id": "CKLqG1fzTalg",
      "metadata": {
        "id": "CKLqG1fzTalg"
      },
      "outputs": [],
      "source": [
        "\n",
        "country_count=data['nationality'].value_counts().head(10)\n",
        "print(\"\\nTop 10 Countries with Most Players:\")\n",
        "print(country_count)"
      ]
    },
    {
      "cell_type": "markdown",
      "id": "323552b1",
      "metadata": {
        "id": "323552b1"
      },
      "source": [
        "### Plot the distribution of overall rating vs. age of players. Interpret what is the age after which a player stops improving?"
      ]
    },
    {
      "cell_type": "code",
      "execution_count": null,
      "id": "Atd9VMgwVmGw",
      "metadata": {
        "id": "Atd9VMgwVmGw"
      },
      "outputs": [],
      "source": [
        "\n",
        "x = data['age']  # X-axis points\n",
        "y = data['overall']  # Y-axis points\n",
        "\n",
        "plt.figure(figsize=(8, 5))\n",
        "plt.bar(x, y, color='blue')"
      ]
    },
    {
      "cell_type": "markdown",
      "id": "8fdabebb",
      "metadata": {
        "id": "8fdabebb"
      },
      "source": [
        "### Which type of offensive players tends to get paid the most: the striker, the right-winger, or the left-winger\n"
      ]
    },
    {
      "cell_type": "code",
      "execution_count": null,
      "id": "L5u61XkMVmz4",
      "metadata": {
        "id": "L5u61XkMVmz4"
      },
      "outputs": [],
      "source": [
        "offensive_positions = ['ST', 'RW', 'LW']\n",
        "offensive_players = data[data['team_position'].isin(offensive_positions)]\n",
        "\n",
        "# Convert 'wage_eur' column to numeric, coercing errors to NaN\n",
        "offensive_players['wage_eur'] = pd.to_numeric(offensive_players['wage_eur'], errors='coerce')\n",
        "\n",
        "# Group by position and find the average wage, skipping NaN values\n",
        "wage_comparison = offensive_players.groupby('team_position')['wage_eur'].mean(numeric_only=True).sort_values(ascending=False)\n",
        "print(\"\\nAverage Wage by Offensive Position:\")\n",
        "print(wage_comparison)\n",
        "\n",
        "# Plotting the average wage comparison\n",
        "wage_comparison.plot(kind='bar', title='Average Wage by Offensive Position', xlabel='Position', ylabel='Average Wage (EUR)')\n",
        "plt.show()"
      ]
    },
    {
      "cell_type": "markdown",
      "id": "08349eb3",
      "metadata": {
        "id": "08349eb3"
      },
      "source": [
        "### Model Comparison Report\n",
        "For 2 cluster I have got better silhoutte at Kmeans clustering in compare to Hierarchial clustering."
      ]
    },
    {
      "cell_type": "markdown",
      "id": "2a43e24b",
      "metadata": {
        "id": "2a43e24b"
      },
      "source": [
        "### Report on Challenges faced\n",
        "1-There are lot of missing values in the data set.Which column has more than 50% missing values,I have removed that columns.which\n",
        "column has less 10% missing values ,i have imput by median..\n",
        "2-There  are many columns in the dataset,which have very high correlation,i have removed them."
      ]
    },
    {
      "cell_type": "code",
      "execution_count": null,
      "id": "fd588cb1",
      "metadata": {
        "id": "fd588cb1"
      },
      "outputs": [],
      "source": []
    }
  ],
  "metadata": {
    "accelerator": "GPU",
    "colab": {
      "gpuType": "T4",
      "provenance": []
    },
    "kernelspec": {
      "display_name": "Python 3 (ipykernel)",
      "language": "python",
      "name": "python3"
    },
    "language_info": {
      "codemirror_mode": {
        "name": "ipython",
        "version": 3
      },
      "file_extension": ".py",
      "mimetype": "text/x-python",
      "name": "python",
      "nbconvert_exporter": "python",
      "pygments_lexer": "ipython3",
      "version": "3.9.13"
    },
    "toc": {
      "base_numbering": 1,
      "nav_menu": {},
      "number_sections": true,
      "sideBar": true,
      "skip_h1_title": false,
      "title_cell": "Table of Contents",
      "title_sidebar": "Contents",
      "toc_cell": false,
      "toc_position": {},
      "toc_section_display": true,
      "toc_window_display": false
    }
  },
  "nbformat": 4,
  "nbformat_minor": 5
}